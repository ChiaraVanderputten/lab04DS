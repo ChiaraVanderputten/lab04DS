{
  "nbformat": 4,
  "nbformat_minor": 0,
  "metadata": {
    "colab": {
      "name": "Untitled2.ipynb",
      "provenance": [],
      "toc_visible": true,
      "authorship_tag": "ABX9TyMe5Dv1xjOBckcuedaYuYuR",
      "include_colab_link": true
    },
    "kernelspec": {
      "name": "python3",
      "display_name": "Python 3"
    },
    "language_info": {
      "name": "python"
    }
  },
  "cells": [
    {
      "cell_type": "markdown",
      "metadata": {
        "id": "view-in-github",
        "colab_type": "text"
      },
      "source": [
        "<a href=\"https://colab.research.google.com/github/ChiaraVanderputten/lab04DS/blob/main/Untitled2.ipynb\" target=\"_parent\"><img src=\"https://colab.research.google.com/assets/colab-badge.svg\" alt=\"Open In Colab\"/></a>"
      ]
    },
    {
      "cell_type": "markdown",
      "metadata": {
        "id": "a5Ayt-RfJrl1"
      },
      "source": [
        "# 0.2"
      ]
    },
    {
      "cell_type": "code",
      "metadata": {
        "colab": {
          "base_uri": "https://localhost:8080/"
        },
        "id": "AgjKCNJIKg8H",
        "outputId": "77ee0942-661c-4d41-e1ba-635a07d86a21"
      },
      "source": [
        "\n",
        "! wget \"https://raw.githubusercontent.com/dbdmg/data-science-lab/master/datasets/mnist_test.csv\" -O mnist.csv\n",
        "! wget \"https://archive.ics.uci.edu/ml/machine-learning-databases/iris/iris.data\" -O iris.csv\n",
        "import csv\n",
        "\n",
        "import numpy as np\n",
        "import pandas as pd\n",
        "\n",
        "df = pd.read_csv(\n",
        "\"https://archive.ics.uci.edu/ml/machine-learning-databases/iris/iris.data\",\n",
        "header=None,)\n",
        "\n",
        "import random\n",
        "\n",
        "n_sel = int(0.2*len(df))\n",
        "#print(n_sel)\n",
        "#print(df)\n",
        "\n",
        "\n",
        "X = np.array(df.values[:, :4]) # tutte le righe e le prime 4 colonne\n",
        "Y = np.array(df.values[:, 4]) # tutte le righe e la 4° colonna\n",
        "\n",
        "#print(X)\n",
        "#print(Y)\n",
        "#print(X[0])\n",
        "#print(Y[0])\n",
        "\n",
        "#test=set()\n",
        "#for i in range(31):\n",
        " # test.add(random.randint(0, len(df)))\n",
        "\n",
        "#print(test)\n",
        "\n",
        "\n",
        "#for i in test:\n",
        " # X_test.concatenate(X[i])\n",
        "\n",
        "mask=np.array([True]*120+[False]*30)\n",
        "np.random.shuffle(mask)\n",
        "#mask  #creo una mascera con 120 true e 30 false(20%) e la applico all'insieme dei dati per ricavarmi\n",
        "# i dati su cui fare il test e quelli su cui creare il modello\n",
        "\n",
        "X_test=X[~mask]\n",
        "print(X_test)\n",
        "Y_test=Y[~mask]\n",
        "print(Y_test)\n",
        "X_train=X[mask]\n",
        "#print(X_train)\n",
        "Y_train=Y[mask]\n",
        "#print(Y_train)\n",
        "\n",
        "def euclidean(p,q):\n",
        " print( np.sqrt (np.sum ((p-q) ** 2)))\n",
        "\n",
        "#euclidean(X[0],X[1]) #5.1  3.5  1.4  0.2  e  4.9  3.0  1.4  0.2\n",
        "\n",
        "def cosine_distance(p,q):\n",
        "  cs = (np.sum (p*q))/ (np.sqrt(np.sum (p ** 2)) * np.sqrt(np.sum (q ** 2)))  \n",
        "  print(1 - abs (cs))\n",
        "\n",
        "#cosine_distance(X[0],X[1]) #5.1  3.5  1.4  0.2  e  4.9  3.0  1.4  0.2\n",
        "\n",
        "def Manhattan(p,q):\n",
        "  print(np.sum (np.abs (p-q)))\n",
        "\n",
        "#Manhattan(X[0],X[1]) #5.1  3.5  1.4  0.2  e  4.9  3.0  1.4  0.2\n",
        "\n",
        "class KNearestNeighbors:\n",
        "  def __init__(self, k, distance_metric=\"euclidean\"):\n",
        "    self.k = k\n",
        "    self.distance_metric = distance_metric\n",
        "  def fit(self, X_train, Y_train):\n",
        "    self.X_train=X_train\n",
        "    self.Y_train=Y_train\n",
        "  def predict(self, X_test):\n",
        "    pass\n",
        "\n"
      ],
      "execution_count": 2,
      "outputs": [
        {
          "output_type": "stream",
          "name": "stdout",
          "text": [
            "--2021-11-13 12:24:05--  https://raw.githubusercontent.com/dbdmg/data-science-lab/master/datasets/mnist_test.csv\n",
            "Resolving raw.githubusercontent.com (raw.githubusercontent.com)... 185.199.110.133, 185.199.108.133, 185.199.111.133, ...\n",
            "Connecting to raw.githubusercontent.com (raw.githubusercontent.com)|185.199.110.133|:443... connected.\n",
            "HTTP request sent, awaiting response... 200 OK\n",
            "Length: 18289443 (17M) [text/plain]\n",
            "Saving to: ‘mnist.csv’\n",
            "\n",
            "\rmnist.csv             0%[                    ]       0  --.-KB/s               \rmnist.csv           100%[===================>]  17.44M  --.-KB/s    in 0.1s    \n",
            "\n",
            "2021-11-13 12:24:05 (125 MB/s) - ‘mnist.csv’ saved [18289443/18289443]\n",
            "\n",
            "--2021-11-13 12:24:05--  https://archive.ics.uci.edu/ml/machine-learning-databases/iris/iris.data\n",
            "Resolving archive.ics.uci.edu (archive.ics.uci.edu)... 128.195.10.252\n",
            "Connecting to archive.ics.uci.edu (archive.ics.uci.edu)|128.195.10.252|:443... connected.\n",
            "HTTP request sent, awaiting response... 200 OK\n",
            "Length: 4551 (4.4K) [application/x-httpd-php]\n",
            "Saving to: ‘iris.csv’\n",
            "\n",
            "iris.csv            100%[===================>]   4.44K  --.-KB/s    in 0s      \n",
            "\n",
            "2021-11-13 12:24:05 (84.2 MB/s) - ‘iris.csv’ saved [4551/4551]\n",
            "\n",
            "[[5.1 3.5 1.4 0.2]\n",
            " [4.6 3.1 1.5 0.2]\n",
            " [5.7 4.4 1.5 0.4]\n",
            " [5.1 3.5 1.4 0.3]\n",
            " [4.6 3.6 1.0 0.2]\n",
            " [4.9 3.1 1.5 0.1]\n",
            " [5.1 3.4 1.5 0.2]\n",
            " [6.9 3.1 4.9 1.5]\n",
            " [5.9 3.0 4.2 1.5]\n",
            " [5.8 2.7 4.1 1.0]\n",
            " [5.9 3.2 4.8 1.8]\n",
            " [6.3 2.5 4.9 1.5]\n",
            " [6.1 2.8 4.7 1.2]\n",
            " [5.4 3.0 4.5 1.5]\n",
            " [5.0 2.3 3.3 1.0]\n",
            " [6.3 2.9 5.6 1.8]\n",
            " [7.3 2.9 6.3 1.8]\n",
            " [6.7 2.5 5.8 1.8]\n",
            " [6.8 3.0 5.5 2.1]\n",
            " [6.5 3.0 5.5 1.8]\n",
            " [5.6 2.8 4.9 2.0]\n",
            " [6.2 2.8 4.8 1.8]\n",
            " [7.2 3.0 5.8 1.6]\n",
            " [7.9 3.8 6.4 2.0]\n",
            " [6.4 2.8 5.6 2.2]\n",
            " [6.3 2.8 5.1 1.5]\n",
            " [6.9 3.1 5.1 2.3]\n",
            " [6.8 3.2 5.9 2.3]\n",
            " [6.5 3.0 5.2 2.0]\n",
            " [5.9 3.0 5.1 1.8]]\n",
            "['Iris-setosa' 'Iris-setosa' 'Iris-setosa' 'Iris-setosa' 'Iris-setosa'\n",
            " 'Iris-setosa' 'Iris-setosa' 'Iris-versicolor' 'Iris-versicolor'\n",
            " 'Iris-versicolor' 'Iris-versicolor' 'Iris-versicolor' 'Iris-versicolor'\n",
            " 'Iris-versicolor' 'Iris-versicolor' 'Iris-virginica' 'Iris-virginica'\n",
            " 'Iris-virginica' 'Iris-virginica' 'Iris-virginica' 'Iris-virginica'\n",
            " 'Iris-virginica' 'Iris-virginica' 'Iris-virginica' 'Iris-virginica'\n",
            " 'Iris-virginica' 'Iris-virginica' 'Iris-virginica' 'Iris-virginica'\n",
            " 'Iris-virginica']\n"
          ]
        }
      ]
    }
  ]
}